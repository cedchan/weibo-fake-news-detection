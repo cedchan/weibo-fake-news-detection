{
  "cells": [
    {
      "cell_type": "markdown",
      "metadata": {
        "id": "VzBWsaIr_qJF"
      },
      "source": [
        "Detect whether Weibo microblog post (Chinese) contains fake news"
      ]
    },
    {
      "cell_type": "markdown",
      "metadata": {},
      "source": [
        "### Installations & Imports"
      ]
    },
    {
      "cell_type": "markdown",
      "metadata": {},
      "source": [
        "Install libraries"
      ]
    },
    {
      "cell_type": "code",
      "execution_count": null,
      "metadata": {},
      "outputs": [],
      "source": [
        "%pip install tensorflow\n",
        "%pip install spacy"
      ]
    },
    {
      "cell_type": "markdown",
      "metadata": {},
      "source": [
        "Load spaCy packages"
      ]
    },
    {
      "cell_type": "code",
      "execution_count": null,
      "metadata": {},
      "outputs": [],
      "source": [
        "!python -m spacy download zh_core_web_lg\n",
        "!python -m spacy download en_core_web_lg"
      ]
    },
    {
      "cell_type": "markdown",
      "metadata": {},
      "source": [
        "Imports and Initializations"
      ]
    },
    {
      "cell_type": "code",
      "execution_count": null,
      "metadata": {
        "colab": {
          "base_uri": "https://localhost:8080/"
        },
        "id": "3GSKNqKYomDD",
        "outputId": "fa8ccceb-1620-453e-a4cb-3db27d8f4cd1"
      },
      "outputs": [],
      "source": [
        "\n",
        "import tensorflow as tf\n",
        "import numpy as np\n",
        "import pandas as pd\n",
        "import json\n",
        "import timeit\n",
        "import spacy\n",
        "import os\n",
        "import re\n",
        "\n",
        "from tensorflow import keras\n",
        "from keras import layers\n",
        "from keras import losses\n",
        "from spacy import displacy\n",
        "from spacy.language import Doc\n",
        "\n",
        "FAKE = 1\n",
        "REAL = 0\n",
        "nlp = spacy.load('zh_core_web_lg')\n",
        "incl_punc = False # Keep all punctuation in data\n"
      ]
    },
    {
      "cell_type": "markdown",
      "metadata": {},
      "source": [
        "### Pre-Process Data"
      ]
    },
    {
      "cell_type": "markdown",
      "metadata": {},
      "source": [
        "#### Clean Dataset Functions TODO：CONSIDER CONVERTING ALL TO SIMPLIFIED"
      ]
    },
    {
      "cell_type": "markdown",
      "metadata": {},
      "source": [
        "spaCy Pad Tokens with Spaces"
      ]
    },
    {
      "cell_type": "code",
      "execution_count": 25,
      "metadata": {},
      "outputs": [],
      "source": [
        "def pad_tokens(text):\n",
        "    doc = nlp(text)\n",
        "    tokens = [token.text for token in doc]\n",
        "    padded = Doc(nlp.vocab, words=tokens, spaces=([True] * len(tokens)))\n",
        "    return text # padded.text"
      ]
    },
    {
      "cell_type": "markdown",
      "metadata": {},
      "source": [
        "Rumors Dataset"
      ]
    },
    {
      "cell_type": "code",
      "execution_count": 26,
      "metadata": {},
      "outputs": [],
      "source": [
        "def clean_rumor(data_list):\n",
        "  real_ex = 0\n",
        "  fake_ex = 0\n",
        "  raw_text = ''\n",
        "\n",
        "  with open('data/rumor_data/labels.txt') as f:\n",
        "    labels_str = f.read()\n",
        "\n",
        "  labels_search = re.findall('eid:(\\d+)\\s+label:([01])', labels_str)\n",
        "  labels = dict(labels_search) # populate dictionary with post id:label pairs\n",
        "\n",
        "  for file in os.scandir('data/rumor_data/posts/'):\n",
        "    with open(file, encoding='utf-8') as f:\n",
        "      json_raw = json.load(f)\n",
        "\n",
        "    text = json_raw[0]['text']\n",
        "    clean = re.sub('http:\\/\\/.*( |$)', '', text)\n",
        "    padded = pad_tokens(clean)\n",
        "\n",
        "    id = json_raw[0]['id']\n",
        "    label = int(labels.get(str(id)))\n",
        "    \n",
        "    if (label == REAL):\n",
        "      real_ex += 1\n",
        "    else:\n",
        "      fake_ex += 1\n",
        "    raw_text += clean + ' '\n",
        "    data_list.append([padded, label])\n",
        "\n",
        "  return (real_ex, fake_ex, raw_text)\n"
      ]
    },
    {
      "cell_type": "markdown",
      "metadata": {},
      "source": [
        "CHECKED Dataset"
      ]
    },
    {
      "cell_type": "code",
      "execution_count": 27,
      "metadata": {},
      "outputs": [],
      "source": [
        "def clean_checked(data_list):\n",
        "    real_ex = 0\n",
        "    fake_ex = 0\n",
        "    raw_text = ''\n",
        "\n",
        "    # Fake news\n",
        "    for file in os.scandir('data/CHECKED_data/fake_news/'):\n",
        "        with open(file, encoding='utf-8') as f:\n",
        "            json_raw = json.load(f)\n",
        "        \n",
        "        text = json_raw['text']\n",
        "        clean = re.sub('(\\\\u200b|\\\\xa0|\\\\ue41d|\\\\ue627|\\\\u3000|\\\\u2005)', '', text)\n",
        "        padded = pad_tokens(clean)\n",
        "\n",
        "        fake_ex += 1\n",
        "        raw_text += clean + ' '\n",
        "        data_list.append([padded, FAKE])\n",
        "\n",
        "    # Real news\n",
        "    for file in os.scandir('data/CHECKED_data/real_news/'):\n",
        "        with open(file, encoding='utf-8') as f:\n",
        "            json_raw = json.load(f)\n",
        "        \n",
        "        text = json_raw['text']\n",
        "        clean = re.sub('(\\\\u200b|\\\\xa0|\\\\ue41d|\\\\ue627|\\\\u3000|\\\\u2005)', '', text)\n",
        "        padded = pad_tokens(clean)\n",
        "        \n",
        "        real_ex += 1\n",
        "        raw_text += clean + ' '\n",
        "        data_list.append([padded, REAL])\n",
        "\n",
        "    return(real_ex, fake_ex, raw_text)"
      ]
    },
    {
      "cell_type": "markdown",
      "metadata": {},
      "source": [
        "COVID-19 Dataset"
      ]
    },
    {
      "cell_type": "code",
      "execution_count": 28,
      "metadata": {},
      "outputs": [],
      "source": [
        "def clean_covid(data_list):\n",
        "  real_ex = 0\n",
        "  fake_ex = 0\n",
        "  raw_text = ''\n",
        "\n",
        "  with open('data/COVID19_data/weibo_covid19_label.txt') as f:\n",
        "    labels_str = f.read()\n",
        "\n",
        "  with open('data/COVID19_data/weibo_covid19_data.txt', encoding='utf-8') as f:\n",
        "    text_str = f.read()\n",
        "  text_search = re.findall('(\\d+)\\s+None\\s+\\d+\\s+\\d+\\.*\\d*\\s+(.+)', text_str)\n",
        "  text = dict(text_search) # populate dictionary with post id:text pairs\n",
        "\n",
        "  for (id, text) in text_search:\n",
        "    labels = re.findall(f'{id}\\s+([01])', labels_str)\n",
        "    if (len(labels) == 0): continue\n",
        "    label = labels[0]\n",
        "    padded = pad_tokens(text)\n",
        "\n",
        "    if (label == REAL):\n",
        "      real_ex += 1\n",
        "    else:\n",
        "      fake_ex += 1\n",
        "    raw_text += text + ' '\n",
        "    data_list.append([padded, label])\n",
        "  \n",
        "  return (real_ex, fake_ex, raw_text)"
      ]
    },
    {
      "cell_type": "markdown",
      "metadata": {},
      "source": [
        "Clean and Save Data"
      ]
    },
    {
      "cell_type": "code",
      "execution_count": 31,
      "metadata": {},
      "outputs": [],
      "source": [
        "def clean_and_save():\n",
        "    data_list = []\n",
        "    \n",
        "    (real_rumor, fake_rumor, raw_rumor) = clean_rumor(data_list)\n",
        "    (real_checked, fake_checked, raw_checked) = clean_checked(data_list)\n",
        "    (real_covid, fake_covid, raw_covid) = clean_covid(data_list)\n",
        "    \n",
        "    real_ex = real_rumor + real_checked + real_covid\n",
        "    fake_ex = fake_rumor + fake_checked + fake_covid\n",
        "    raw_text = raw_rumor + raw_checked + raw_covid\n",
        "\n",
        "    data = pd.DataFrame(data_list, columns=['Text', 'Label'])\n",
        "    data.to_csv('data/cleaned_data.csv', index=False)\n",
        "    \n",
        "    testj = {\n",
        "        'real_ex': real_ex,\n",
        "        'fake_ex': fake_ex,\n",
        "        'raw_text': raw_text\n",
        "    }\n",
        "    with open('data/metadata.json', mode='w') as f:\n",
        "      json.dump(testj, f, indent=4)\n",
        "\n",
        "    print(f'Real Examples: {real_ex}\\nFake Examples: {fake_ex}')"
      ]
    },
    {
      "cell_type": "markdown",
      "metadata": {},
      "source": [
        "#### Load Data"
      ]
    },
    {
      "cell_type": "code",
      "execution_count": 32,
      "metadata": {},
      "outputs": [
        {
          "name": "stdout",
          "output_type": "stream",
          "text": [
            "Real Examples: 4111\n",
            "Fake Examples: 3068\n",
            " \n",
            "  •=============================•\n",
            "  |         DATA SUMMARY        |\n",
            "  •=============================•\n",
            "  | Real Examples: 4111         |\n",
            "  | Fake Examples: 3068         |\n",
            "  | Total: 7179                 |\n",
            "  |-----------------------------|\n",
            "  | Actual Size: 7176           |\n",
            "  •=============================•\n",
            "\n"
          ]
        }
      ],
      "source": [
        "if ((not os.path.exists('data/cleaned_data.csv')) or (not os.path.exists('data/metadata.json'))):\n",
        "  clean_and_save()\n",
        "\n",
        "dataset = pd.read_csv('data/cleaned_data.csv').dropna()\n",
        "texts = dataset['Text'].to_numpy()\n",
        "labels = dataset['Label'].to_numpy()\n",
        "\n",
        "with open('data/metadata.json', encoding='utf-8', mode='r') as f:\n",
        "  metadata = json.load(f)\n",
        "\n",
        "real_ex = metadata['real_ex']\n",
        "fake_ex = metadata['fake_ex']\n",
        "raw_text = metadata['raw_text']\n",
        "\n",
        "print(f''' \n",
        "  •=============================•\n",
        "  |         DATA SUMMARY        |\n",
        "  •=============================•\n",
        "  | Real Examples: {real_ex}         |\n",
        "  | Fake Examples: {fake_ex}         |\n",
        "  | Total: {real_ex + fake_ex}                 |\n",
        "  |-----------------------------|\n",
        "  | Actual Size: {len(dataset)}           |\n",
        "  •=============================•\n",
        "''')"
      ]
    },
    {
      "cell_type": "code",
      "execution_count": 22,
      "metadata": {},
      "outputs": [
        {
          "name": "stdout",
          "output_type": "stream",
          "text": [
            "num 43883\n",
            "hits: 35861, misses: 8022\n"
          ]
        }
      ],
      "source": [
        "\n",
        "\n",
        "# VECTORIZING\n",
        "\n",
        "Vectorize_layer = layers.TextVectorization()\n",
        "Vectorize_layer.adapt(texts)\n",
        "vocab = Vectorize_layer.get_vocabulary()\n",
        "num_tokens = len(vocab)\n",
        "print(\"num\", num_tokens)\n",
        "\n",
        "# EMBEDDING MATRIX\n",
        "\n",
        "embedding_dim = len(nlp('曾').vector) # Finds length of arbitrary spaCy word vector \n",
        "embedding_matrix = np.zeros((num_tokens, embedding_dim))\n",
        "hits, misses = 0, 0\n",
        "\n",
        "for i, word in enumerate(vocab):\n",
        "  token = nlp(word)\n",
        "  if token.has_vector:\n",
        "    hits += 1\n",
        "    embedding_matrix[i] = token.vector\n",
        "  else:\n",
        "    misses += 1\n",
        "print(f'hits: {hits}, misses: {misses}')"
      ]
    },
    {
      "cell_type": "code",
      "execution_count": 23,
      "metadata": {},
      "outputs": [
        {
          "name": "stdout",
          "output_type": "stream",
          "text": [
            "Epoch 1/10\n",
            "115/115 [==============================] - 41s 285ms/step - loss: 0.6893 - binary_accuracy: 0.5348 - val_loss: 0.6459 - val_binary_accuracy: 0.8162\n",
            "Epoch 2/10\n",
            "115/115 [==============================] - 31s 268ms/step - loss: 0.6790 - binary_accuracy: 0.5605 - val_loss: 0.6384 - val_binary_accuracy: 0.8433\n",
            "Epoch 3/10\n",
            "115/115 [==============================] - 33s 289ms/step - loss: 0.6557 - binary_accuracy: 0.6211 - val_loss: 0.6344 - val_binary_accuracy: 0.8538\n",
            "Epoch 4/10\n",
            "115/115 [==============================] - 33s 291ms/step - loss: 0.6193 - binary_accuracy: 0.6444 - val_loss: 0.5616 - val_binary_accuracy: 0.7813\n",
            "Epoch 5/10\n",
            "115/115 [==============================] - 32s 276ms/step - loss: 0.5389 - binary_accuracy: 0.6901 - val_loss: 0.4100 - val_binary_accuracy: 0.8524\n",
            "Epoch 6/10\n",
            "115/115 [==============================] - 39s 341ms/step - loss: 0.5246 - binary_accuracy: 0.7035 - val_loss: 0.3755 - val_binary_accuracy: 0.8851\n",
            "Epoch 7/10\n",
            "115/115 [==============================] - 42s 364ms/step - loss: 0.4962 - binary_accuracy: 0.7176 - val_loss: 0.3339 - val_binary_accuracy: 0.9060\n",
            "Epoch 8/10\n",
            "115/115 [==============================] - 38s 331ms/step - loss: 0.4739 - binary_accuracy: 0.7213 - val_loss: 0.3091 - val_binary_accuracy: 0.9046\n",
            "Epoch 9/10\n",
            "115/115 [==============================] - 40s 348ms/step - loss: 0.4694 - binary_accuracy: 0.7307 - val_loss: 0.3161 - val_binary_accuracy: 0.9032\n",
            "Epoch 10/10\n",
            "115/115 [==============================] - 40s 350ms/step - loss: 0.4424 - binary_accuracy: 0.7430 - val_loss: 0.2811 - val_binary_accuracy: 0.9150\n"
          ]
        }
      ],
      "source": [
        "Embedding_layer = layers.Embedding(\n",
        "    num_tokens,\n",
        "    embedding_dim,\n",
        "    embeddings_initializer=keras.initializers.Constant(embedding_matrix),\n",
        "    trainable=True,\n",
        ")\n",
        "\n",
        "model = tf.keras.Sequential([\n",
        "    Vectorize_layer,\n",
        "    Embedding_layer,\n",
        "    layers.LSTM(2, return_sequences=True), # dimension size?\n",
        "    layers.Dropout(0.5),\n",
        "    layers.Dense(1),\n",
        "    layers.Dropout(0.5),\n",
        "    layers.GlobalAveragePooling1D(), # what does this do\n",
        "    layers.Dropout(0.5),\n",
        "    layers.Dense(1)\n",
        "])\n",
        "\n",
        "model.compile(loss=losses.BinaryCrossentropy(from_logits=True),\n",
        "              optimizer='adam',\n",
        "              metrics=tf.metrics.BinaryAccuracy(threshold=0.0)\n",
        ")\n",
        "\n",
        "# print(model.summary())\n",
        "\n",
        "# Train model\n",
        "history = model.fit(\n",
        "    texts,\n",
        "    labels, # CHANGE TO NUMBERS\n",
        "    batch_size = 50,\n",
        "    epochs = 10,\n",
        "    validation_split = 0.2 # fix to split data later\n",
        ")"
      ]
    },
    {
      "cell_type": "code",
      "execution_count": 24,
      "metadata": {},
      "outputs": [
        {
          "data": {
            "image/png": "[encoded data removed]",
            "text/plain": [
              "<Figure size 432x288 with 1 Axes>"
            ]
          },
          "metadata": {
            "needs_background": "light"
          },
          "output_type": "display_data"
        },
        {
          "data": {
            "image/png": "[encoded data removed]",
            "text/plain": [
              "<Figure size 432x288 with 1 Axes>"
            ]
          },
          "metadata": {
            "needs_background": "light"
          },
          "output_type": "display_data"
        }
      ],
      "source": [
        "from matplotlib import pyplot as plt\n",
        "\n",
        "history_dict = history.history\n",
        "history_dict.keys()\n",
        "acc = history_dict['binary_accuracy']\n",
        "val_acc = history_dict['val_binary_accuracy']\n",
        "loss = history_dict['loss']\n",
        "val_loss = history_dict['val_loss']\n",
        "\n",
        "epochs = range(1, len(acc) + 1)\n",
        "\n",
        "# \"bo\" is for \"blue dot\"\n",
        "plt.plot(epochs, loss, 'r', label='Training loss')\n",
        "# b is for \"solid blue line\"\n",
        "plt.plot(epochs, val_loss, 'b', label='Validation loss')\n",
        "plt.title('Training and validation loss')\n",
        "plt.xlabel('Epochs')\n",
        "plt.ylabel('Loss')\n",
        "plt.legend()\n",
        "\n",
        "plt.show()\n",
        "\n",
        "plt.plot(epochs, acc, 'r', label='Training acc')\n",
        "plt.plot(epochs, val_acc, 'b', label='Validation acc')\n",
        "plt.title('Training and validation accuracy')\n",
        "plt.xlabel('Epochs')\n",
        "plt.ylabel('Accuracy')\n",
        "plt.legend(loc='lower right')\n",
        "\n",
        "plt.show()"
      ]
    },
    {
      "cell_type": "markdown",
      "metadata": {
        "id": "gMAWby3DkiGH"
      },
      "source": [
        "# ARCHIVE"
      ]
    },
    {
      "cell_type": "code",
      "execution_count": 19,
      "metadata": {
        "colab": {
          "base_uri": "https://localhost:8080/",
          "height": 257
        },
        "id": "DIHCAb3DhP12",
        "outputId": "93686a70-08ec-4da5-ae57-077f51b13f06"
      },
      "outputs": [
        {
          "ename": "KeyboardInterrupt",
          "evalue": "",
          "output_type": "error",
          "traceback": [
            "\u001b[1;31m---------------------------------------------------------------------------\u001b[0m",
            "\u001b[1;31mKeyboardInterrupt\u001b[0m                         Traceback (most recent call last)",
            "\u001b[1;32mc:\\Users\\cedch\\OneDrive\\Documents\\Fake News Data\\WeiboFakeNewsDetection.ipynb Cell 24\u001b[0m in \u001b[0;36m<cell line: 5>\u001b[1;34m()\u001b[0m\n\u001b[0;32m      <a href='vscode-notebook-cell:/c%3A/Users/cedch/OneDrive/Documents/Fake%20News%20Data/WeiboFakeNewsDetection.ipynb#X33sZmlsZQ%3D%3D?line=0'>1</a>\u001b[0m \u001b[39m#=================================#\u001b[39;00m\n\u001b[0;32m      <a href='vscode-notebook-cell:/c%3A/Users/cedch/OneDrive/Documents/Fake%20News%20Data/WeiboFakeNewsDetection.ipynb#X33sZmlsZQ%3D%3D?line=1'>2</a>\u001b[0m \u001b[39m#          PROCESS DATA           #\u001b[39;00m\n\u001b[0;32m      <a href='vscode-notebook-cell:/c%3A/Users/cedch/OneDrive/Documents/Fake%20News%20Data/WeiboFakeNewsDetection.ipynb#X33sZmlsZQ%3D%3D?line=2'>3</a>\u001b[0m \u001b[39m#=================================#\u001b[39;00m\n\u001b[0;32m      <a href='vscode-notebook-cell:/c%3A/Users/cedch/OneDrive/Documents/Fake%20News%20Data/WeiboFakeNewsDetection.ipynb#X33sZmlsZQ%3D%3D?line=4'>5</a>\u001b[0m \u001b[39mif\u001b[39;00m ((\u001b[39mnot\u001b[39;00m os\u001b[39m.\u001b[39mpath\u001b[39m.\u001b[39mexists(\u001b[39m'\u001b[39m\u001b[39mdata/cleaned_data.csv\u001b[39m\u001b[39m'\u001b[39m)) \u001b[39mor\u001b[39;00m (\u001b[39mnot\u001b[39;00m os\u001b[39m.\u001b[39mpath\u001b[39m.\u001b[39mexists(\u001b[39m'\u001b[39m\u001b[39mdata/metadata.csv\u001b[39m\u001b[39m'\u001b[39m))):\n\u001b[1;32m----> <a href='vscode-notebook-cell:/c%3A/Users/cedch/OneDrive/Documents/Fake%20News%20Data/WeiboFakeNewsDetection.ipynb#X33sZmlsZQ%3D%3D?line=5'>6</a>\u001b[0m   clean_and_save()\n\u001b[0;32m      <a href='vscode-notebook-cell:/c%3A/Users/cedch/OneDrive/Documents/Fake%20News%20Data/WeiboFakeNewsDetection.ipynb#X33sZmlsZQ%3D%3D?line=7'>8</a>\u001b[0m dataset \u001b[39m=\u001b[39m pd\u001b[39m.\u001b[39mread_csv(\u001b[39m'\u001b[39m\u001b[39mdata/cleaned_data.csv\u001b[39m\u001b[39m'\u001b[39m)\n\u001b[0;32m      <a href='vscode-notebook-cell:/c%3A/Users/cedch/OneDrive/Documents/Fake%20News%20Data/WeiboFakeNewsDetection.ipynb#X33sZmlsZQ%3D%3D?line=8'>9</a>\u001b[0m metadata \u001b[39m=\u001b[39m pd\u001b[39m.\u001b[39mread_csv(\u001b[39m'\u001b[39m\u001b[39mdata/metadata.csv\u001b[39m\u001b[39m'\u001b[39m)\n",
            "\u001b[1;32mc:\\Users\\cedch\\OneDrive\\Documents\\Fake News Data\\WeiboFakeNewsDetection.ipynb Cell 24\u001b[0m in \u001b[0;36mclean_and_save\u001b[1;34m()\u001b[0m\n\u001b[0;32m      <a href='vscode-notebook-cell:/c%3A/Users/cedch/OneDrive/Documents/Fake%20News%20Data/WeiboFakeNewsDetection.ipynb#X33sZmlsZQ%3D%3D?line=0'>1</a>\u001b[0m \u001b[39mdef\u001b[39;00m \u001b[39mclean_and_save\u001b[39m():\n\u001b[0;32m      <a href='vscode-notebook-cell:/c%3A/Users/cedch/OneDrive/Documents/Fake%20News%20Data/WeiboFakeNewsDetection.ipynb#X33sZmlsZQ%3D%3D?line=1'>2</a>\u001b[0m     data_list \u001b[39m=\u001b[39m []\n\u001b[1;32m----> <a href='vscode-notebook-cell:/c%3A/Users/cedch/OneDrive/Documents/Fake%20News%20Data/WeiboFakeNewsDetection.ipynb#X33sZmlsZQ%3D%3D?line=3'>4</a>\u001b[0m     (real_rumor, fake_rumor, raw_rumor) \u001b[39m=\u001b[39m clean_rumor(data_list)\n\u001b[0;32m      <a href='vscode-notebook-cell:/c%3A/Users/cedch/OneDrive/Documents/Fake%20News%20Data/WeiboFakeNewsDetection.ipynb#X33sZmlsZQ%3D%3D?line=4'>5</a>\u001b[0m     (real_checked, fake_checked, raw_checked) \u001b[39m=\u001b[39m clean_checked(data_list)\n\u001b[0;32m      <a href='vscode-notebook-cell:/c%3A/Users/cedch/OneDrive/Documents/Fake%20News%20Data/WeiboFakeNewsDetection.ipynb#X33sZmlsZQ%3D%3D?line=5'>6</a>\u001b[0m     (real_covid, fake_covid, raw_covid) \u001b[39m=\u001b[39m clean_covid(data_list)\n",
            "\u001b[1;32mc:\\Users\\cedch\\OneDrive\\Documents\\Fake News Data\\WeiboFakeNewsDetection.ipynb Cell 24\u001b[0m in \u001b[0;36mclean_rumor\u001b[1;34m(data_list)\u001b[0m\n\u001b[0;32m     <a href='vscode-notebook-cell:/c%3A/Users/cedch/OneDrive/Documents/Fake%20News%20Data/WeiboFakeNewsDetection.ipynb#X33sZmlsZQ%3D%3D?line=15'>16</a>\u001b[0m text \u001b[39m=\u001b[39m json_raw[\u001b[39m0\u001b[39m][\u001b[39m'\u001b[39m\u001b[39mtext\u001b[39m\u001b[39m'\u001b[39m]\n\u001b[0;32m     <a href='vscode-notebook-cell:/c%3A/Users/cedch/OneDrive/Documents/Fake%20News%20Data/WeiboFakeNewsDetection.ipynb#X33sZmlsZQ%3D%3D?line=16'>17</a>\u001b[0m clean \u001b[39m=\u001b[39m re\u001b[39m.\u001b[39msub(\u001b[39m'\u001b[39m\u001b[39mhttp:\u001b[39m\u001b[39m\\\u001b[39m\u001b[39m/\u001b[39m\u001b[39m\\\u001b[39m\u001b[39m/.*( |$)\u001b[39m\u001b[39m'\u001b[39m, \u001b[39m'\u001b[39m\u001b[39m'\u001b[39m, text)\n\u001b[1;32m---> <a href='vscode-notebook-cell:/c%3A/Users/cedch/OneDrive/Documents/Fake%20News%20Data/WeiboFakeNewsDetection.ipynb#X33sZmlsZQ%3D%3D?line=17'>18</a>\u001b[0m padded \u001b[39m=\u001b[39m pad_tokens(clean)\n\u001b[0;32m     <a href='vscode-notebook-cell:/c%3A/Users/cedch/OneDrive/Documents/Fake%20News%20Data/WeiboFakeNewsDetection.ipynb#X33sZmlsZQ%3D%3D?line=19'>20</a>\u001b[0m \u001b[39mid\u001b[39m \u001b[39m=\u001b[39m json_raw[\u001b[39m0\u001b[39m][\u001b[39m'\u001b[39m\u001b[39mid\u001b[39m\u001b[39m'\u001b[39m]\n\u001b[0;32m     <a href='vscode-notebook-cell:/c%3A/Users/cedch/OneDrive/Documents/Fake%20News%20Data/WeiboFakeNewsDetection.ipynb#X33sZmlsZQ%3D%3D?line=20'>21</a>\u001b[0m label \u001b[39m=\u001b[39m \u001b[39mint\u001b[39m(labels\u001b[39m.\u001b[39mget(\u001b[39mstr\u001b[39m(\u001b[39mid\u001b[39m)))\n",
            "\u001b[1;32mc:\\Users\\cedch\\OneDrive\\Documents\\Fake News Data\\WeiboFakeNewsDetection.ipynb Cell 24\u001b[0m in \u001b[0;36mpad_tokens\u001b[1;34m(text)\u001b[0m\n\u001b[0;32m      <a href='vscode-notebook-cell:/c%3A/Users/cedch/OneDrive/Documents/Fake%20News%20Data/WeiboFakeNewsDetection.ipynb#X33sZmlsZQ%3D%3D?line=0'>1</a>\u001b[0m \u001b[39mdef\u001b[39;00m \u001b[39mpad_tokens\u001b[39m(text):\n\u001b[1;32m----> <a href='vscode-notebook-cell:/c%3A/Users/cedch/OneDrive/Documents/Fake%20News%20Data/WeiboFakeNewsDetection.ipynb#X33sZmlsZQ%3D%3D?line=1'>2</a>\u001b[0m     doc \u001b[39m=\u001b[39m nlp(text)\n\u001b[0;32m      <a href='vscode-notebook-cell:/c%3A/Users/cedch/OneDrive/Documents/Fake%20News%20Data/WeiboFakeNewsDetection.ipynb#X33sZmlsZQ%3D%3D?line=2'>3</a>\u001b[0m     tokens \u001b[39m=\u001b[39m [token\u001b[39m.\u001b[39mtext \u001b[39mfor\u001b[39;00m token \u001b[39min\u001b[39;00m doc]\n\u001b[0;32m      <a href='vscode-notebook-cell:/c%3A/Users/cedch/OneDrive/Documents/Fake%20News%20Data/WeiboFakeNewsDetection.ipynb#X33sZmlsZQ%3D%3D?line=3'>4</a>\u001b[0m     padded \u001b[39m=\u001b[39m Doc(nlp\u001b[39m.\u001b[39mvocab, words\u001b[39m=\u001b[39mtokens, spaces\u001b[39m=\u001b[39m([\u001b[39mTrue\u001b[39;00m] \u001b[39m*\u001b[39m \u001b[39mlen\u001b[39m(tokens)))\n",
            "File \u001b[1;32mc:\\Users\\cedch\\anaconda3\\lib\\site-packages\\spacy\\language.py:1026\u001b[0m, in \u001b[0;36mLanguage.__call__\u001b[1;34m(self, text, disable, component_cfg)\u001b[0m\n\u001b[0;32m   1024\u001b[0m     error_handler \u001b[39m=\u001b[39m proc\u001b[39m.\u001b[39mget_error_handler()\n\u001b[0;32m   1025\u001b[0m \u001b[39mtry\u001b[39;00m:\n\u001b[1;32m-> 1026\u001b[0m     doc \u001b[39m=\u001b[39m proc(doc, \u001b[39m*\u001b[39m\u001b[39m*\u001b[39mcomponent_cfg\u001b[39m.\u001b[39mget(name, {}))  \u001b[39m# type: ignore[call-arg]\u001b[39;00m\n\u001b[0;32m   1027\u001b[0m \u001b[39mexcept\u001b[39;00m \u001b[39mKeyError\u001b[39;00m \u001b[39mas\u001b[39;00m e:\n\u001b[0;32m   1028\u001b[0m     \u001b[39m# This typically happens if a component is not initialized\u001b[39;00m\n\u001b[0;32m   1029\u001b[0m     \u001b[39mraise\u001b[39;00m \u001b[39mValueError\u001b[39;00m(Errors\u001b[39m.\u001b[39mE109\u001b[39m.\u001b[39mformat(name\u001b[39m=\u001b[39mname)) \u001b[39mfrom\u001b[39;00m \u001b[39me\u001b[39;00m\n",
            "File \u001b[1;32mc:\\Users\\cedch\\anaconda3\\lib\\site-packages\\spacy\\pipeline\\trainable_pipe.pyx:52\u001b[0m, in \u001b[0;36mspacy.pipeline.trainable_pipe.TrainablePipe.__call__\u001b[1;34m()\u001b[0m\n",
            "File \u001b[1;32mc:\\Users\\cedch\\anaconda3\\lib\\site-packages\\spacy\\pipeline\\tok2vec.py:125\u001b[0m, in \u001b[0;36mTok2Vec.predict\u001b[1;34m(self, docs)\u001b[0m\n\u001b[0;32m    123\u001b[0m     width \u001b[39m=\u001b[39m \u001b[39mself\u001b[39m\u001b[39m.\u001b[39mmodel\u001b[39m.\u001b[39mget_dim(\u001b[39m\"\u001b[39m\u001b[39mnO\u001b[39m\u001b[39m\"\u001b[39m)\n\u001b[0;32m    124\u001b[0m     \u001b[39mreturn\u001b[39;00m [\u001b[39mself\u001b[39m\u001b[39m.\u001b[39mmodel\u001b[39m.\u001b[39mops\u001b[39m.\u001b[39malloc((\u001b[39m0\u001b[39m, width)) \u001b[39mfor\u001b[39;00m doc \u001b[39min\u001b[39;00m docs]\n\u001b[1;32m--> 125\u001b[0m tokvecs \u001b[39m=\u001b[39m \u001b[39mself\u001b[39;49m\u001b[39m.\u001b[39;49mmodel\u001b[39m.\u001b[39;49mpredict(docs)\n\u001b[0;32m    126\u001b[0m batch_id \u001b[39m=\u001b[39m Tok2VecListener\u001b[39m.\u001b[39mget_batch_id(docs)\n\u001b[0;32m    127\u001b[0m \u001b[39mfor\u001b[39;00m listener \u001b[39min\u001b[39;00m \u001b[39mself\u001b[39m\u001b[39m.\u001b[39mlisteners:\n",
            "File \u001b[1;32mc:\\Users\\cedch\\anaconda3\\lib\\site-packages\\thinc\\model.py:315\u001b[0m, in \u001b[0;36mModel.predict\u001b[1;34m(self, X)\u001b[0m\n\u001b[0;32m    311\u001b[0m \u001b[39mdef\u001b[39;00m \u001b[39mpredict\u001b[39m(\u001b[39mself\u001b[39m, X: InT) \u001b[39m-\u001b[39m\u001b[39m>\u001b[39m OutT:\n\u001b[0;32m    312\u001b[0m     \u001b[39m\"\"\"Call the model's `forward` function with `is_train=False`, and return\u001b[39;00m\n\u001b[0;32m    313\u001b[0m \u001b[39m    only the output, instead of the `(output, callback)` tuple.\u001b[39;00m\n\u001b[0;32m    314\u001b[0m \u001b[39m    \"\"\"\u001b[39;00m\n\u001b[1;32m--> 315\u001b[0m     \u001b[39mreturn\u001b[39;00m \u001b[39mself\u001b[39;49m\u001b[39m.\u001b[39;49m_func(\u001b[39mself\u001b[39;49m, X, is_train\u001b[39m=\u001b[39;49m\u001b[39mFalse\u001b[39;49;00m)[\u001b[39m0\u001b[39m]\n",
            "File \u001b[1;32mc:\\Users\\cedch\\anaconda3\\lib\\site-packages\\thinc\\layers\\chain.py:55\u001b[0m, in \u001b[0;36mforward\u001b[1;34m(model, X, is_train)\u001b[0m\n\u001b[0;32m     53\u001b[0m callbacks \u001b[39m=\u001b[39m []\n\u001b[0;32m     54\u001b[0m \u001b[39mfor\u001b[39;00m layer \u001b[39min\u001b[39;00m model\u001b[39m.\u001b[39mlayers:\n\u001b[1;32m---> 55\u001b[0m     Y, inc_layer_grad \u001b[39m=\u001b[39m layer(X, is_train\u001b[39m=\u001b[39;49mis_train)\n\u001b[0;32m     56\u001b[0m     callbacks\u001b[39m.\u001b[39mappend(inc_layer_grad)\n\u001b[0;32m     57\u001b[0m     X \u001b[39m=\u001b[39m Y\n",
            "File \u001b[1;32mc:\\Users\\cedch\\anaconda3\\lib\\site-packages\\thinc\\model.py:291\u001b[0m, in \u001b[0;36mModel.__call__\u001b[1;34m(self, X, is_train)\u001b[0m\n\u001b[0;32m    288\u001b[0m \u001b[39mdef\u001b[39;00m \u001b[39m__call__\u001b[39m(\u001b[39mself\u001b[39m, X: InT, is_train: \u001b[39mbool\u001b[39m) \u001b[39m-\u001b[39m\u001b[39m>\u001b[39m Tuple[OutT, Callable]:\n\u001b[0;32m    289\u001b[0m     \u001b[39m\"\"\"Call the model's `forward` function, returning the output and a\u001b[39;00m\n\u001b[0;32m    290\u001b[0m \u001b[39m    callback to compute the gradients via backpropagation.\"\"\"\u001b[39;00m\n\u001b[1;32m--> 291\u001b[0m     \u001b[39mreturn\u001b[39;00m \u001b[39mself\u001b[39;49m\u001b[39m.\u001b[39;49m_func(\u001b[39mself\u001b[39;49m, X, is_train\u001b[39m=\u001b[39;49mis_train)\n",
            "File \u001b[1;32mc:\\Users\\cedch\\anaconda3\\lib\\site-packages\\thinc\\layers\\chain.py:55\u001b[0m, in \u001b[0;36mforward\u001b[1;34m(model, X, is_train)\u001b[0m\n\u001b[0;32m     53\u001b[0m callbacks \u001b[39m=\u001b[39m []\n\u001b[0;32m     54\u001b[0m \u001b[39mfor\u001b[39;00m layer \u001b[39min\u001b[39;00m model\u001b[39m.\u001b[39mlayers:\n\u001b[1;32m---> 55\u001b[0m     Y, inc_layer_grad \u001b[39m=\u001b[39m layer(X, is_train\u001b[39m=\u001b[39;49mis_train)\n\u001b[0;32m     56\u001b[0m     callbacks\u001b[39m.\u001b[39mappend(inc_layer_grad)\n\u001b[0;32m     57\u001b[0m     X \u001b[39m=\u001b[39m Y\n",
            "File \u001b[1;32mc:\\Users\\cedch\\anaconda3\\lib\\site-packages\\thinc\\model.py:291\u001b[0m, in \u001b[0;36mModel.__call__\u001b[1;34m(self, X, is_train)\u001b[0m\n\u001b[0;32m    288\u001b[0m \u001b[39mdef\u001b[39;00m \u001b[39m__call__\u001b[39m(\u001b[39mself\u001b[39m, X: InT, is_train: \u001b[39mbool\u001b[39m) \u001b[39m-\u001b[39m\u001b[39m>\u001b[39m Tuple[OutT, Callable]:\n\u001b[0;32m    289\u001b[0m     \u001b[39m\"\"\"Call the model's `forward` function, returning the output and a\u001b[39;00m\n\u001b[0;32m    290\u001b[0m \u001b[39m    callback to compute the gradients via backpropagation.\"\"\"\u001b[39;00m\n\u001b[1;32m--> 291\u001b[0m     \u001b[39mreturn\u001b[39;00m \u001b[39mself\u001b[39;49m\u001b[39m.\u001b[39;49m_func(\u001b[39mself\u001b[39;49m, X, is_train\u001b[39m=\u001b[39;49mis_train)\n",
            "File \u001b[1;32mc:\\Users\\cedch\\anaconda3\\lib\\site-packages\\thinc\\layers\\concatenate.py:44\u001b[0m, in \u001b[0;36mforward\u001b[1;34m(model, X, is_train)\u001b[0m\n\u001b[0;32m     43\u001b[0m \u001b[39mdef\u001b[39;00m \u001b[39mforward\u001b[39m(model: Model[InT, OutT], X: InT, is_train: \u001b[39mbool\u001b[39m) \u001b[39m-\u001b[39m\u001b[39m>\u001b[39m Tuple[OutT, Callable]:\n\u001b[1;32m---> 44\u001b[0m     Ys, callbacks \u001b[39m=\u001b[39m \u001b[39mzip\u001b[39m(\u001b[39m*\u001b[39m[layer(X, is_train\u001b[39m=\u001b[39mis_train) \u001b[39mfor\u001b[39;00m layer \u001b[39min\u001b[39;00m model\u001b[39m.\u001b[39mlayers])\n\u001b[0;32m     45\u001b[0m     \u001b[39mif\u001b[39;00m \u001b[39misinstance\u001b[39m(Ys[\u001b[39m0\u001b[39m], \u001b[39mlist\u001b[39m):\n\u001b[0;32m     46\u001b[0m         data_l, backprop \u001b[39m=\u001b[39m _list_forward(model, X, Ys, callbacks, is_train)\n",
            "File \u001b[1;32mc:\\Users\\cedch\\anaconda3\\lib\\site-packages\\thinc\\layers\\concatenate.py:44\u001b[0m, in \u001b[0;36m<listcomp>\u001b[1;34m(.0)\u001b[0m\n\u001b[0;32m     43\u001b[0m \u001b[39mdef\u001b[39;00m \u001b[39mforward\u001b[39m(model: Model[InT, OutT], X: InT, is_train: \u001b[39mbool\u001b[39m) \u001b[39m-\u001b[39m\u001b[39m>\u001b[39m Tuple[OutT, Callable]:\n\u001b[1;32m---> 44\u001b[0m     Ys, callbacks \u001b[39m=\u001b[39m \u001b[39mzip\u001b[39m(\u001b[39m*\u001b[39m[layer(X, is_train\u001b[39m=\u001b[39;49mis_train) \u001b[39mfor\u001b[39;00m layer \u001b[39min\u001b[39;00m model\u001b[39m.\u001b[39mlayers])\n\u001b[0;32m     45\u001b[0m     \u001b[39mif\u001b[39;00m \u001b[39misinstance\u001b[39m(Ys[\u001b[39m0\u001b[39m], \u001b[39mlist\u001b[39m):\n\u001b[0;32m     46\u001b[0m         data_l, backprop \u001b[39m=\u001b[39m _list_forward(model, X, Ys, callbacks, is_train)\n",
            "File \u001b[1;32mc:\\Users\\cedch\\anaconda3\\lib\\site-packages\\thinc\\model.py:291\u001b[0m, in \u001b[0;36mModel.__call__\u001b[1;34m(self, X, is_train)\u001b[0m\n\u001b[0;32m    288\u001b[0m \u001b[39mdef\u001b[39;00m \u001b[39m__call__\u001b[39m(\u001b[39mself\u001b[39m, X: InT, is_train: \u001b[39mbool\u001b[39m) \u001b[39m-\u001b[39m\u001b[39m>\u001b[39m Tuple[OutT, Callable]:\n\u001b[0;32m    289\u001b[0m     \u001b[39m\"\"\"Call the model's `forward` function, returning the output and a\u001b[39;00m\n\u001b[0;32m    290\u001b[0m \u001b[39m    callback to compute the gradients via backpropagation.\"\"\"\u001b[39;00m\n\u001b[1;32m--> 291\u001b[0m     \u001b[39mreturn\u001b[39;00m \u001b[39mself\u001b[39;49m\u001b[39m.\u001b[39;49m_func(\u001b[39mself\u001b[39;49m, X, is_train\u001b[39m=\u001b[39;49mis_train)\n",
            "File \u001b[1;32mc:\\Users\\cedch\\anaconda3\\lib\\site-packages\\thinc\\layers\\chain.py:55\u001b[0m, in \u001b[0;36mforward\u001b[1;34m(model, X, is_train)\u001b[0m\n\u001b[0;32m     53\u001b[0m callbacks \u001b[39m=\u001b[39m []\n\u001b[0;32m     54\u001b[0m \u001b[39mfor\u001b[39;00m layer \u001b[39min\u001b[39;00m model\u001b[39m.\u001b[39mlayers:\n\u001b[1;32m---> 55\u001b[0m     Y, inc_layer_grad \u001b[39m=\u001b[39m layer(X, is_train\u001b[39m=\u001b[39;49mis_train)\n\u001b[0;32m     56\u001b[0m     callbacks\u001b[39m.\u001b[39mappend(inc_layer_grad)\n\u001b[0;32m     57\u001b[0m     X \u001b[39m=\u001b[39m Y\n",
            "File \u001b[1;32mc:\\Users\\cedch\\anaconda3\\lib\\site-packages\\thinc\\model.py:291\u001b[0m, in \u001b[0;36mModel.__call__\u001b[1;34m(self, X, is_train)\u001b[0m\n\u001b[0;32m    288\u001b[0m \u001b[39mdef\u001b[39;00m \u001b[39m__call__\u001b[39m(\u001b[39mself\u001b[39m, X: InT, is_train: \u001b[39mbool\u001b[39m) \u001b[39m-\u001b[39m\u001b[39m>\u001b[39m Tuple[OutT, Callable]:\n\u001b[0;32m    289\u001b[0m     \u001b[39m\"\"\"Call the model's `forward` function, returning the output and a\u001b[39;00m\n\u001b[0;32m    290\u001b[0m \u001b[39m    callback to compute the gradients via backpropagation.\"\"\"\u001b[39;00m\n\u001b[1;32m--> 291\u001b[0m     \u001b[39mreturn\u001b[39;00m \u001b[39mself\u001b[39;49m\u001b[39m.\u001b[39;49m_func(\u001b[39mself\u001b[39;49m, X, is_train\u001b[39m=\u001b[39;49mis_train)\n",
            "File \u001b[1;32mc:\\Users\\cedch\\anaconda3\\lib\\site-packages\\thinc\\layers\\with_array.py:32\u001b[0m, in \u001b[0;36mforward\u001b[1;34m(model, Xseq, is_train)\u001b[0m\n\u001b[0;32m     28\u001b[0m \u001b[39mdef\u001b[39;00m \u001b[39mforward\u001b[39m(\n\u001b[0;32m     29\u001b[0m     model: Model[SeqT, SeqT], Xseq: SeqT, is_train: \u001b[39mbool\u001b[39m\n\u001b[0;32m     30\u001b[0m ) \u001b[39m-\u001b[39m\u001b[39m>\u001b[39m Tuple[SeqT, Callable]:\n\u001b[0;32m     31\u001b[0m     \u001b[39mif\u001b[39;00m \u001b[39misinstance\u001b[39m(Xseq, Ragged):\n\u001b[1;32m---> 32\u001b[0m         \u001b[39mreturn\u001b[39;00m cast(Tuple[SeqT, Callable], _ragged_forward(model, Xseq, is_train))\n\u001b[0;32m     33\u001b[0m     \u001b[39melif\u001b[39;00m \u001b[39misinstance\u001b[39m(Xseq, Padded):\n\u001b[0;32m     34\u001b[0m         \u001b[39mreturn\u001b[39;00m cast(Tuple[SeqT, Callable], _padded_forward(model, Xseq, is_train))\n",
            "File \u001b[1;32mc:\\Users\\cedch\\anaconda3\\lib\\site-packages\\thinc\\layers\\with_array.py:87\u001b[0m, in \u001b[0;36m_ragged_forward\u001b[1;34m(model, Xr, is_train)\u001b[0m\n\u001b[0;32m     83\u001b[0m \u001b[39mdef\u001b[39;00m \u001b[39m_ragged_forward\u001b[39m(\n\u001b[0;32m     84\u001b[0m     model: Model[SeqT, SeqT], Xr: Ragged, is_train: \u001b[39mbool\u001b[39m\n\u001b[0;32m     85\u001b[0m ) \u001b[39m-\u001b[39m\u001b[39m>\u001b[39m Tuple[Ragged, Callable]:\n\u001b[0;32m     86\u001b[0m     layer: Model[ArrayXd, ArrayXd] \u001b[39m=\u001b[39m model\u001b[39m.\u001b[39mlayers[\u001b[39m0\u001b[39m]\n\u001b[1;32m---> 87\u001b[0m     Y, get_dX \u001b[39m=\u001b[39m layer(Xr\u001b[39m.\u001b[39;49mdataXd, is_train)\n\u001b[0;32m     89\u001b[0m     \u001b[39mdef\u001b[39;00m \u001b[39mbackprop\u001b[39m(dYr: Ragged) \u001b[39m-\u001b[39m\u001b[39m>\u001b[39m Ragged:\n\u001b[0;32m     90\u001b[0m         \u001b[39mreturn\u001b[39;00m Ragged(get_dX(dYr\u001b[39m.\u001b[39mdataXd), dYr\u001b[39m.\u001b[39mlengths)\n",
            "File \u001b[1;32mc:\\Users\\cedch\\anaconda3\\lib\\site-packages\\thinc\\model.py:291\u001b[0m, in \u001b[0;36mModel.__call__\u001b[1;34m(self, X, is_train)\u001b[0m\n\u001b[0;32m    288\u001b[0m \u001b[39mdef\u001b[39;00m \u001b[39m__call__\u001b[39m(\u001b[39mself\u001b[39m, X: InT, is_train: \u001b[39mbool\u001b[39m) \u001b[39m-\u001b[39m\u001b[39m>\u001b[39m Tuple[OutT, Callable]:\n\u001b[0;32m    289\u001b[0m     \u001b[39m\"\"\"Call the model's `forward` function, returning the output and a\u001b[39;00m\n\u001b[0;32m    290\u001b[0m \u001b[39m    callback to compute the gradients via backpropagation.\"\"\"\u001b[39;00m\n\u001b[1;32m--> 291\u001b[0m     \u001b[39mreturn\u001b[39;00m \u001b[39mself\u001b[39;49m\u001b[39m.\u001b[39;49m_func(\u001b[39mself\u001b[39;49m, X, is_train\u001b[39m=\u001b[39;49mis_train)\n",
            "File \u001b[1;32mc:\\Users\\cedch\\anaconda3\\lib\\site-packages\\thinc\\layers\\concatenate.py:52\u001b[0m, in \u001b[0;36mforward\u001b[1;34m(model, X, is_train)\u001b[0m\n\u001b[0;32m     50\u001b[0m     \u001b[39mreturn\u001b[39;00m cast(OutT, data_r), backprop\n\u001b[0;32m     51\u001b[0m \u001b[39melse\u001b[39;00m:\n\u001b[1;32m---> 52\u001b[0m     data_a, backprop \u001b[39m=\u001b[39m _array_forward(model, X, Ys, callbacks, is_train)\n\u001b[0;32m     53\u001b[0m     \u001b[39mreturn\u001b[39;00m cast(OutT, data_a), backprop\n",
            "File \u001b[1;32mc:\\Users\\cedch\\anaconda3\\lib\\site-packages\\thinc\\layers\\concatenate.py:60\u001b[0m, in \u001b[0;36m_array_forward\u001b[1;34m(model, X, Ys, callbacks, is_train)\u001b[0m\n\u001b[0;32m     56\u001b[0m \u001b[39mdef\u001b[39;00m \u001b[39m_array_forward\u001b[39m(\n\u001b[0;32m     57\u001b[0m     model: Model[InT, OutT], X, Ys: List, callbacks, is_train: \u001b[39mbool\u001b[39m\n\u001b[0;32m     58\u001b[0m ) \u001b[39m-\u001b[39m\u001b[39m>\u001b[39m Tuple[Array2d, Callable]:\n\u001b[0;32m     59\u001b[0m     widths \u001b[39m=\u001b[39m [Y\u001b[39m.\u001b[39mshape[\u001b[39m1\u001b[39m] \u001b[39mfor\u001b[39;00m Y \u001b[39min\u001b[39;00m Ys]\n\u001b[1;32m---> 60\u001b[0m     output \u001b[39m=\u001b[39m model\u001b[39m.\u001b[39;49mops\u001b[39m.\u001b[39;49mxp\u001b[39m.\u001b[39;49mhstack(Ys)\n\u001b[0;32m     62\u001b[0m     \u001b[39mdef\u001b[39;00m \u001b[39mbackprop\u001b[39m(d_output: Array2d) \u001b[39m-\u001b[39m\u001b[39m>\u001b[39m InT:\n\u001b[0;32m     63\u001b[0m         dY \u001b[39m=\u001b[39m model\u001b[39m.\u001b[39mops\u001b[39m.\u001b[39mas_contig(d_output[:, : widths[\u001b[39m0\u001b[39m]])\n",
            "File \u001b[1;32m<__array_function__ internals>:5\u001b[0m, in \u001b[0;36mhstack\u001b[1;34m(*args, **kwargs)\u001b[0m\n",
            "File \u001b[1;32mc:\\Users\\cedch\\anaconda3\\lib\\site-packages\\numpy\\core\\shape_base.py:345\u001b[0m, in \u001b[0;36mhstack\u001b[1;34m(tup)\u001b[0m\n\u001b[0;32m    343\u001b[0m     \u001b[39mreturn\u001b[39;00m _nx\u001b[39m.\u001b[39mconcatenate(arrs, \u001b[39m0\u001b[39m)\n\u001b[0;32m    344\u001b[0m \u001b[39melse\u001b[39;00m:\n\u001b[1;32m--> 345\u001b[0m     \u001b[39mreturn\u001b[39;00m _nx\u001b[39m.\u001b[39;49mconcatenate(arrs, \u001b[39m1\u001b[39;49m)\n",
            "File \u001b[1;32m<__array_function__ internals>:5\u001b[0m, in \u001b[0;36mconcatenate\u001b[1;34m(*args, **kwargs)\u001b[0m\n",
            "\u001b[1;31mKeyboardInterrupt\u001b[0m: "
          ]
        }
      ],
      "source": [
        "#=================================#\n",
        "#          PROCESS DATA           #\n",
        "#=================================#\n",
        "\n",
        "if ((not os.path.exists('data/cleaned_data.csv')) or (not os.path.exists('data/metadata.csv'))):\n",
        "  clean_and_save()\n",
        "\n",
        "dataset = pd.read_csv('data/cleaned_data.csv')\n",
        "metadata = pd.read_csv('data/metadata.csv')\n",
        "\n",
        "# VECTORIZING\n",
        "\n",
        "\n",
        "Vectorize_layer = layers.TextVectorization()\n",
        "Vectorize_layer.adapt(dataset.Text.to_numpy())\n",
        "vocab = Vectorize_layer.get_vocabulary()\n",
        "num_tokens = len(vocab)\n",
        "\n",
        "# EMBEDDING MATRIX\n",
        "\n",
        "embedding_dim = len(nlp('曾').vector) # Finds length of arbitrary spaCy word vector \n",
        "embedding_matrix = np.zeros((num_tokens, embedding_dim))\n",
        "hits, misses = 0, 0\n",
        "\n",
        "for i, token in enumerate(vocab):\n",
        "  if token.is_oov:\n",
        "    misses += 1\n",
        "  else:\n",
        "    embedding_matrix[i] = token.vector\n",
        "    hits += 1\n",
        "print(f'hits: {hits}, misses: {misses}')\n",
        "\n",
        "Embedding_layer = layers.Embedding(\n",
        "    num_tokens,\n",
        "    embedding_dim,\n",
        "    embeddings_initializer=keras.initializers.Constant(embedding_matrix),\n",
        "    trainable=False,\n",
        ")\n",
        "\n",
        "sequence_length = 250\n",
        "vectorize_layer = layers.TextVectorization(\n",
        "    max_tokens=num_tokens,\n",
        "    output_mode='int',\n",
        "    output_sequence_length=sequence_length)\n",
        "\n",
        "#=================================#\n",
        "#         CREATING MODEL          #\n",
        "#=================================#\n",
        "\n",
        "# How can I use other spaCy pipeline info (e.g., NER, dependencies) in model?\n",
        "model = tf.keras.Sequential([\n",
        "    Vectorize_layer,\n",
        "    Embedding_layer,\n",
        "    layers.LSTM(2, return_sequences=True), # dimension size?\n",
        "    layers.Dropout(0.2),\n",
        "    layers.GlobalAveragePooling1D(), # what does this do\n",
        "    layers.Dense(1)\n",
        "])\n",
        "\n",
        "model.compile(loss=losses.BinaryCrossentropy(from_logits=True),\n",
        "              optimizer='adam',\n",
        "              metrics=tf.metrics.BinaryAccuracy(threshold=0.0)\n",
        ")\n",
        "\n",
        "# print(model.summary())\n",
        "\n",
        "# Train model\n",
        "model.fit(\n",
        "    posts,\n",
        "    labels, # CHANGE TO NUMBERS\n",
        "    batch_size = 20,\n",
        "    epochs = 50,\n",
        "    validation_split = 0.2 # fix to split data later\n",
        ")\n",
        "\n",
        "#=================================#\n",
        "#           EVALUATING            #\n",
        "#=================================#\n",
        "\n"
      ]
    },
    {
      "cell_type": "code",
      "execution_count": null,
      "metadata": {
        "colab": {
          "base_uri": "https://localhost:8080/"
        },
        "id": "N27o-HxwrA04",
        "outputId": "bb5c7608-40a0-431f-e88b-011879cb9907"
      },
      "outputs": [],
      "source": [
        "nlp1 = spacy.load('zh_core_web_lg')\n",
        "nlp2 = spacy.load('en_core_web_sm')\n",
        "\n",
        "doc = nlp1('漂亮 美丽')\n",
        "doc2 = nlp2('this is a sentence')\n",
        "\n",
        "displacy.serve(doc2, style='dep')\n",
        "\n",
        "# print('\\t Text\\t\\t is_num\\t\\t is_stop')\n",
        "# print('-'*45)\n",
        "# for i, token in enumerate(doc):\n",
        "#   print(f'{i}\\t {token.text}\\t\\t {token.like_num}\\t\\t {token.is_stop}')\n",
        "\n",
        "# a, b = 0, 1\n",
        "# print(f'{doc[a]}, {doc[b]} similarity: {doc[a].similarity(doc[b])}')\n",
        "# print(f'{doc2[a]}, {doc2[b]} similarity: {doc2[a].similarity(doc2[b])}')"
      ]
    },
    {
      "cell_type": "code",
      "execution_count": null,
      "metadata": {
        "id": "z-6kwv1juoyc"
      },
      "outputs": [],
      "source": [
        "test = pd.read_json('data/rumor_data/posts/4010312877.json')\n",
        "\n",
        "store = []\n",
        "store.append(test.loc[0, 'text'])\n",
        "print(store)\n",
        "# print(one)"
      ]
    }
  ],
  "metadata": {
    "colab": {
      "provenance": []
    },
    "kernelspec": {
      "display_name": "Python 3.9.12 64-bit ('anaconda3')",
      "language": "python",
      "name": "python3"
    },
    "language_info": {
      "codemirror_mode": {
        "name": "ipython",
        "version": 3
      },
      "file_extension": ".py",
      "mimetype": "text/x-python",
      "name": "python",
      "nbconvert_exporter": "python",
      "pygments_lexer": "ipython3",
      "version": "3.9.12"
    },
    "vscode": {
      "interpreter": {
        "hash": "722344e03542fabc1ef0b63553515a0d1d2a2145a1410551ac5799b74536ab30"
      }
    }
  },
  "nbformat": 4,
  "nbformat_minor": 0
}
